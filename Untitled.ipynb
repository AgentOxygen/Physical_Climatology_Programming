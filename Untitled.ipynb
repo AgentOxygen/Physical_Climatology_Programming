{
 "cells": [
  {
   "cell_type": "code",
   "execution_count": 26,
   "id": "99ebefcc-9e06-4b7f-bf42-e36279005a18",
   "metadata": {},
   "outputs": [
    {
     "name": "stdout",
     "output_type": "stream",
     "text": [
      "[273.16  275.15  277.15  283.15  287.15  291.15  293.15  298.15  303.15\n",
      " 307.15  313.15  317.15  323.15  327.15  333.15  343.15  353.15  363.15\n",
      " 369.15  373.15  383.15  393.15  413.15  433.15  453.15  473.15  493.15\n",
      " 513.15  533.15  553.15  573.15  593.15  613.15  633.15  647.096]\n"
     ]
    },
    {
     "data": {
      "text/plain": [
       "-6.840000000000032"
      ]
     },
     "execution_count": 26,
     "metadata": {},
     "output_type": "execute_result"
    }
   ],
   "source": [
    "import json\n",
    "import numpy as np\n",
    "\n",
    "with open(\"LatentHeatLookup.json\") as f:\n",
    "    table = json.load(f)\n",
    "\n",
    "temps = np.array(table[\"Temperature (K)\"])\n",
    "latent_heat = np.array(table[\"Heat of Vaporization (kJ/kg)\"])\n",
    "\n",
    "dt = temps - self.T\n",
    "dt[dt == np.min(dt)][0]"
   ]
  },
  {
   "cell_type": "code",
   "execution_count": 37,
   "id": "7b09f47b-725c-4049-b8ee-266375efa5e1",
   "metadata": {},
   "outputs": [
    {
     "ename": "NameError",
     "evalue": "name 'function' is not defined",
     "output_type": "error",
     "traceback": [
      "\u001b[1;31m---------------------------------------------------------------------------\u001b[0m",
      "\u001b[1;31mNameError\u001b[0m                                 Traceback (most recent call last)",
      "\u001b[1;32m<ipython-input-37-4ef44366a458>\u001b[0m in \u001b[0;36m<module>\u001b[1;34m\u001b[0m\n\u001b[1;32m----> 1\u001b[1;33m \u001b[1;32mdef\u001b[0m \u001b[0ma\u001b[0m\u001b[1;33m(\u001b[0m\u001b[0mb\u001b[0m\u001b[1;33m:\u001b[0m \u001b[0mfunction\u001b[0m\u001b[1;33m)\u001b[0m\u001b[1;33m:\u001b[0m\u001b[1;33m\u001b[0m\u001b[1;33m\u001b[0m\u001b[0m\n\u001b[0m\u001b[0;32m      2\u001b[0m     \u001b[1;32mpass\u001b[0m\u001b[1;33m\u001b[0m\u001b[1;33m\u001b[0m\u001b[0m\n\u001b[0;32m      3\u001b[0m \u001b[0mtype\u001b[0m\u001b[1;33m(\u001b[0m\u001b[0ma\u001b[0m\u001b[1;33m)\u001b[0m\u001b[1;33m\u001b[0m\u001b[1;33m\u001b[0m\u001b[0m\n",
      "\u001b[1;31mNameError\u001b[0m: name 'function' is not defined"
     ]
    }
   ],
   "source": [
    "def a(b: function):\n",
    "    pass\n",
    "type(a)"
   ]
  }
 ],
 "metadata": {
  "kernelspec": {
   "display_name": "Python 3",
   "language": "python",
   "name": "python3"
  },
  "language_info": {
   "codemirror_mode": {
    "name": "ipython",
    "version": 3
   },
   "file_extension": ".py",
   "mimetype": "text/x-python",
   "name": "python",
   "nbconvert_exporter": "python",
   "pygments_lexer": "ipython3",
   "version": "3.8.8"
  }
 },
 "nbformat": 4,
 "nbformat_minor": 5
}
